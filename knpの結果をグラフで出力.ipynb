{
 "cells": [
  {
   "cell_type": "code",
   "execution_count": 70,
   "metadata": {},
   "outputs": [],
   "source": [
    "import subprocess\n",
    "import re"
   ]
  },
  {
   "cell_type": "code",
   "execution_count": 95,
   "metadata": {},
   "outputs": [],
   "source": [
    "# subprocessでコマンドを実行し、出力結果を格納\n",
    "text = '藤井聡太は昨年１０月、１４歳で四段に昇段。翌１２月、デビュー戦で加藤一二三九段に勝利。藤井はそのまま連勝を続け、６月２１日に澤田真吾六段に勝ち、最多連勝記録に並んだ。'\n",
    "command = 'echo \"{}\" | jumanpp | knp -simple -anaphora'.format(text)\n",
    "result = subprocess.check_output(command, shell=True).strip()\n",
    "lines = result.decode('utf-8').split('\\n')"
   ]
  },
  {
   "cell_type": "code",
   "execution_count": 96,
   "metadata": {},
   "outputs": [],
   "source": [
    "pat = re.compile(r'<項構造:(.*?)>')\n",
    "flag = False\n",
    "items = []\n",
    "for line in lines:\n",
    "    # 基本句かつ用言\n",
    "    if line[0] == '+' and '<用言:動>' in line.split()[2]:\n",
    "        flag = True\n",
    "        m = pat.search(line)\n",
    "        if m:\n",
    "            targets = m.group(1).split(';')\n",
    "            for t in targets:\n",
    "                elems = t.split('/')\n",
    "                item = [elems[1],elems[0],None]\n",
    "                items.append(item)\n",
    "    elif flag:\n",
    "        # Noneの部分に原型を入れる\n",
    "        for item in items:\n",
    "            if item[-1] == None:\n",
    "                item[-1] = line.split()[2]\n",
    "        flag = False\n",
    "    else:\n",
    "        continue"
   ]
  },
  {
   "cell_type": "code",
   "execution_count": 97,
   "metadata": {},
   "outputs": [
    {
     "data": {
      "text/plain": [
       "defaultdict(dict,\n",
       "            {'昇段': {'ガ': '藤井聡太', '時間': '昨年１０月', 'デ': '１４歳', 'ニ': '四段'},\n",
       "             '勝利': {'時間': '１２月', 'デ': 'デビュー戦', 'ニ': '加藤一二三九段', 'ガ': '藤井聡太'},\n",
       "             '続ける': {'ガ': '藤井聡太', '修飾': 'そのまま', 'ヲ': '連勝'},\n",
       "             '勝つ': {'ニ': '澤田真吾六段', 'ガ': '藤井聡太'},\n",
       "             '並ぶ': {'ニ': '最多連勝記録', 'ガ': '藤井聡太'}})"
      ]
     },
     "execution_count": 97,
     "metadata": {},
     "output_type": "execute_result"
    }
   ],
   "source": [
    "from collections import defaultdict\n",
    "dic = defaultdict(dict)\n",
    "for item in items:\n",
    "    dic[item[2]][item[1]] = item[0]\n",
    "dic"
   ]
  },
  {
   "cell_type": "code",
   "execution_count": 98,
   "metadata": {},
   "outputs": [],
   "source": [
    "from graphviz import Digraph\n",
    "g = Digraph(format='png')\n",
    "g.attr(\"node\", shape=\"square\", style=\"filled\")\n",
    "sbj = 'ガ'\n",
    "objs = ['ニ','ヲ']\n",
    "for pred in dic:\n",
    "    for obj in objs:\n",
    "        if sbj in dic[pred] and obj in dic[pred]:\n",
    "            g.node(dic[pred][sbj],dic[pred][sbj])\n",
    "            g.node(dic[pred][sbj], shape=\"circle\", color=\"pink\")\n",
    "            g.node(dic[pred][obj],dic[pred][obj])\n",
    "            g.edge(dic[pred][sbj],dic[pred][obj],label=pred)"
   ]
  },
  {
   "cell_type": "code",
   "execution_count": 100,
   "metadata": {},
   "outputs": [
    {
     "data": {
      "text/plain": [
       "'spo.png'"
      ]
     },
     "execution_count": 100,
     "metadata": {},
     "output_type": "execute_result"
    }
   ],
   "source": [
    "g.render('spo')"
   ]
  },
  {
   "cell_type": "code",
   "execution_count": null,
   "metadata": {},
   "outputs": [],
   "source": []
  },
  {
   "cell_type": "code",
   "execution_count": null,
   "metadata": {},
   "outputs": [],
   "source": []
  },
  {
   "cell_type": "code",
   "execution_count": null,
   "metadata": {},
   "outputs": [],
   "source": []
  },
  {
   "cell_type": "code",
   "execution_count": null,
   "metadata": {},
   "outputs": [],
   "source": []
  },
  {
   "cell_type": "code",
   "execution_count": null,
   "metadata": {},
   "outputs": [],
   "source": []
  },
  {
   "cell_type": "code",
   "execution_count": null,
   "metadata": {},
   "outputs": [],
   "source": []
  },
  {
   "cell_type": "code",
   "execution_count": null,
   "metadata": {},
   "outputs": [],
   "source": []
  },
  {
   "cell_type": "code",
   "execution_count": null,
   "metadata": {},
   "outputs": [],
   "source": []
  }
 ],
 "metadata": {
  "kernelspec": {
   "display_name": "Python 3",
   "language": "python",
   "name": "python3"
  },
  "language_info": {
   "codemirror_mode": {
    "name": "ipython",
    "version": 3
   },
   "file_extension": ".py",
   "mimetype": "text/x-python",
   "name": "python",
   "nbconvert_exporter": "python",
   "pygments_lexer": "ipython3",
   "version": "3.7.0"
  }
 },
 "nbformat": 4,
 "nbformat_minor": 2
}
